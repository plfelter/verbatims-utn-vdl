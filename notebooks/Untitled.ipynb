{
 "cells": [
  {
   "cell_type": "code",
   "id": "81e4397e-fbad-4077-9836-bbe50b9e61eb",
   "metadata": {
    "ExecuteTime": {
     "end_time": "2025-05-09T12:39:54.928959Z",
     "start_time": "2025-05-09T12:39:54.675252Z"
    }
   },
   "source": [
    "import pandas as pd\n",
    "from pathlib import Path\n",
    "import os"
   ],
   "outputs": [],
   "execution_count": 1
  },
  {
   "cell_type": "code",
   "id": "a5f4d7e6-3270-424e-8436-5d418b40b8b4",
   "metadata": {
    "ExecuteTime": {
     "end_time": "2025-05-09T12:39:54.968481Z",
     "start_time": "2025-05-09T12:39:54.941878Z"
    }
   },
   "source": [
    "project_dir: Path = Path(os.getcwd()).resolve().parent\n",
    "data: Path = project_dir / \"resources\" / \"verbatims\" / \"contributions.json\"\n",
    "\n",
    "d = pd.read_json(data)\n",
    "d"
   ],
   "outputs": [
    {
     "data": {
      "text/plain": [
       "                                                   body  number  \\\n",
       "0      Je suis opposé à ce projet , sauvegarde  du site    2290   \n",
       "1     Ça fait des années qu'il faut moderniser le si...    2289   \n",
       "2     CE projet à toute sa place sur notre commune d...    2288   \n",
       "3     Madame, monsieur, \\nPour des raisons environne...    2287   \n",
       "4     Je suis contre ce projet. L'immobilier sur le ...    2286   \n",
       "...                                                 ...     ...   \n",
       "3605  Un projet catastrophique au regard des dégâts ...    3045   \n",
       "3606  Bonjour,\\nVoici ma contribution au PPVE UTNS V...    3044   \n",
       "3607  Je suis contre ce projet.\\nQuand on imagine l'...    3043   \n",
       "3608  Je m oppose aux projets TParker\\nUNT ...20 000...    3042   \n",
       "3609  Je suis opposée au projet d’UTNS sur le secteu...    3041   \n",
       "\n",
       "                     time               user  \n",
       "0     2025-04-28 17:43:00            Anonyme  \n",
       "1     2025-04-28 17:42:00            Anonyme  \n",
       "2     2025-04-28 17:41:00        RUEL CLAUDE  \n",
       "3     2025-04-28 17:38:00             audrey  \n",
       "4     2025-04-28 17:31:00            Anonyme  \n",
       "...                   ...                ...  \n",
       "3605  2025-04-29 16:45:00            Anonyme  \n",
       "3606  2025-04-29 16:42:00            Anonyme  \n",
       "3607  2025-04-29 16:41:00        Clara BELLE  \n",
       "3608  2025-04-29 16:41:00  NGUYEN Frédérique  \n",
       "3609  2025-04-29 16:40:00            Anonyme  \n",
       "\n",
       "[3610 rows x 4 columns]"
      ],
      "text/html": [
       "<div>\n",
       "<style scoped>\n",
       "    .dataframe tbody tr th:only-of-type {\n",
       "        vertical-align: middle;\n",
       "    }\n",
       "\n",
       "    .dataframe tbody tr th {\n",
       "        vertical-align: top;\n",
       "    }\n",
       "\n",
       "    .dataframe thead th {\n",
       "        text-align: right;\n",
       "    }\n",
       "</style>\n",
       "<table border=\"1\" class=\"dataframe\">\n",
       "  <thead>\n",
       "    <tr style=\"text-align: right;\">\n",
       "      <th></th>\n",
       "      <th>body</th>\n",
       "      <th>number</th>\n",
       "      <th>time</th>\n",
       "      <th>user</th>\n",
       "    </tr>\n",
       "  </thead>\n",
       "  <tbody>\n",
       "    <tr>\n",
       "      <th>0</th>\n",
       "      <td>Je suis opposé à ce projet , sauvegarde  du site</td>\n",
       "      <td>2290</td>\n",
       "      <td>2025-04-28 17:43:00</td>\n",
       "      <td>Anonyme</td>\n",
       "    </tr>\n",
       "    <tr>\n",
       "      <th>1</th>\n",
       "      <td>Ça fait des années qu'il faut moderniser le si...</td>\n",
       "      <td>2289</td>\n",
       "      <td>2025-04-28 17:42:00</td>\n",
       "      <td>Anonyme</td>\n",
       "    </tr>\n",
       "    <tr>\n",
       "      <th>2</th>\n",
       "      <td>CE projet à toute sa place sur notre commune d...</td>\n",
       "      <td>2288</td>\n",
       "      <td>2025-04-28 17:41:00</td>\n",
       "      <td>RUEL CLAUDE</td>\n",
       "    </tr>\n",
       "    <tr>\n",
       "      <th>3</th>\n",
       "      <td>Madame, monsieur, \\nPour des raisons environne...</td>\n",
       "      <td>2287</td>\n",
       "      <td>2025-04-28 17:38:00</td>\n",
       "      <td>audrey</td>\n",
       "    </tr>\n",
       "    <tr>\n",
       "      <th>4</th>\n",
       "      <td>Je suis contre ce projet. L'immobilier sur le ...</td>\n",
       "      <td>2286</td>\n",
       "      <td>2025-04-28 17:31:00</td>\n",
       "      <td>Anonyme</td>\n",
       "    </tr>\n",
       "    <tr>\n",
       "      <th>...</th>\n",
       "      <td>...</td>\n",
       "      <td>...</td>\n",
       "      <td>...</td>\n",
       "      <td>...</td>\n",
       "    </tr>\n",
       "    <tr>\n",
       "      <th>3605</th>\n",
       "      <td>Un projet catastrophique au regard des dégâts ...</td>\n",
       "      <td>3045</td>\n",
       "      <td>2025-04-29 16:45:00</td>\n",
       "      <td>Anonyme</td>\n",
       "    </tr>\n",
       "    <tr>\n",
       "      <th>3606</th>\n",
       "      <td>Bonjour,\\nVoici ma contribution au PPVE UTNS V...</td>\n",
       "      <td>3044</td>\n",
       "      <td>2025-04-29 16:42:00</td>\n",
       "      <td>Anonyme</td>\n",
       "    </tr>\n",
       "    <tr>\n",
       "      <th>3607</th>\n",
       "      <td>Je suis contre ce projet.\\nQuand on imagine l'...</td>\n",
       "      <td>3043</td>\n",
       "      <td>2025-04-29 16:41:00</td>\n",
       "      <td>Clara BELLE</td>\n",
       "    </tr>\n",
       "    <tr>\n",
       "      <th>3608</th>\n",
       "      <td>Je m oppose aux projets TParker\\nUNT ...20 000...</td>\n",
       "      <td>3042</td>\n",
       "      <td>2025-04-29 16:41:00</td>\n",
       "      <td>NGUYEN Frédérique</td>\n",
       "    </tr>\n",
       "    <tr>\n",
       "      <th>3609</th>\n",
       "      <td>Je suis opposée au projet d’UTNS sur le secteu...</td>\n",
       "      <td>3041</td>\n",
       "      <td>2025-04-29 16:40:00</td>\n",
       "      <td>Anonyme</td>\n",
       "    </tr>\n",
       "  </tbody>\n",
       "</table>\n",
       "<p>3610 rows × 4 columns</p>\n",
       "</div>"
      ]
     },
     "execution_count": 2,
     "metadata": {},
     "output_type": "execute_result"
    }
   ],
   "execution_count": 2
  },
  {
   "cell_type": "code",
   "id": "d3a823cf-9b97-400a-96e2-d463ae09fd8f",
   "metadata": {
    "ExecuteTime": {
     "end_time": "2025-05-09T12:42:20.442506Z",
     "start_time": "2025-05-09T12:42:20.438453Z"
    }
   },
   "source": "d.isnull().sum()",
   "outputs": [
    {
     "data": {
      "text/plain": [
       "body      0\n",
       "number    0\n",
       "time      0\n",
       "user      0\n",
       "dtype: int64"
      ]
     },
     "execution_count": 6,
     "metadata": {},
     "output_type": "execute_result"
    }
   ],
   "execution_count": 6
  },
  {
   "cell_type": "code",
   "execution_count": null,
   "id": "3f7b02cd-f728-48a5-be4c-c7bdd92b528b",
   "metadata": {},
   "outputs": [],
   "source": []
  }
 ],
 "metadata": {
  "kernelspec": {
   "display_name": "Python 3 (ipykernel)",
   "language": "python",
   "name": "python3"
  },
  "language_info": {
   "codemirror_mode": {
    "name": "ipython",
    "version": 3
   },
   "file_extension": ".py",
   "mimetype": "text/x-python",
   "name": "python",
   "nbconvert_exporter": "python",
   "pygments_lexer": "ipython3",
   "version": "3.10.13"
  }
 },
 "nbformat": 4,
 "nbformat_minor": 5
}
